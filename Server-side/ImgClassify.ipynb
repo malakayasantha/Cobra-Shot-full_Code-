{
 "cells": [
  {
   "cell_type": "code",
   "execution_count": 1,
   "id": "970918cb",
   "metadata": {},
   "outputs": [],
   "source": [
    "import numpy as np\n",
    "from keras.preprocessing import image\n",
    "from keras.models import load_model"
   ]
  },
  {
   "cell_type": "code",
   "execution_count": 3,
   "id": "a343543f",
   "metadata": {},
   "outputs": [],
   "source": [
    "#function defined for the recognition\n",
    "def recognition():\n",
    "    #trained model is loaded\n",
    "    cobrashot_m=load_model('cobrashot_m.h5')\n",
    "    #fetch and load image from the location\n",
    "    img = image.load_img('C:\\\\Users\\\\Nethmi Mohotti\\\\Desktop\\\\CobraShot\\\\Data Science\\\\dataset\\\\validation\\\\picture.jpeg', target_size=(224, 224))\n",
    "    x =image.img_to_array(img)\n",
    "    x = np.expand_dims(x,axis=0)\n",
    "    images = np.vstack([x]) \n",
    "    pred = cobrashot_m.predict(images)\n",
    "    prediction= pred[0]\n",
    "    for k in range(7):\n",
    "        if prediction[k] == 1:\n",
    "          break\n",
    "    return k\n",
    "\n",
    "if __name__ =='__main__':\n",
    "    recognition()\n"
   ]
  },
  {
   "cell_type": "code",
   "execution_count": null,
   "id": "f841b4af",
   "metadata": {},
   "outputs": [],
   "source": []
  }
 ],
 "metadata": {
  "kernelspec": {
   "display_name": "Python 3 (ipykernel)",
   "language": "python",
   "name": "python3"
  },
  "language_info": {
   "codemirror_mode": {
    "name": "ipython",
    "version": 3
   },
   "file_extension": ".py",
   "mimetype": "text/x-python",
   "name": "python",
   "nbconvert_exporter": "python",
   "pygments_lexer": "ipython3",
   "version": "3.9.7"
  }
 },
 "nbformat": 4,
 "nbformat_minor": 5
}
